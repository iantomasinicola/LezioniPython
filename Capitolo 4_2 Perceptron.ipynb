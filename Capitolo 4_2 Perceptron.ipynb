{
 "cells": [
  {
   "cell_type": "markdown",
   "metadata": {},
   "source": [
    "# Implementazione del Perceptron - inizio parte 1"
   ]
  },
  {
   "cell_type": "code",
   "execution_count": null,
   "metadata": {},
   "outputs": [],
   "source": [
    "import pandas as pd\n",
    "import numpy as np\n",
    "path = \"C:\\\\Users\\\\ianto\\\\Desktop\\\\Corso Python per l analisi dei dati\\\\File\\\\\""
   ]
  },
  {
   "cell_type": "code",
   "execution_count": null,
   "metadata": {},
   "outputs": [],
   "source": [
    "def preprocessing(path):\n",
    "    iris = pd.read_csv(filepath_or_buffer=path + 'IrisDataset.csv',\n",
    "            sep = \";\", \n",
    "            header = None,\n",
    "            names = [\"rownumber\",\"sepal_length\",\"sepal_width\",\"petal_length\",\"petal_width\",\"class\"],\n",
    "            skiprows = 4\n",
    "            )\n",
    "    \n",
    "    iris_working = iris.copy()\n",
    "    iris_working = iris_working[iris_working[\"class\"].isin([\"Iris setosa\",\"Iris versicolor\"])]\n",
    "    iris_working = iris_working.sample(frac=1, \n",
    "                                       random_state = 0)\n",
    "    iris_working = iris_working.drop([\"rownumber\"], \n",
    "                                     axis=1)\n",
    "    \n",
    "    \n",
    "    numero_righe = len(iris_working)\n",
    "    percentuale = 50/100\n",
    "    soglia = numero_righe*percentuale\n",
    "    lista_colonne = list(iris_working.columns)\n",
    "    lista_colonne.remove(\"class\")\n",
    "    for colonna in lista_colonne:\n",
    "        numero_null = len(iris_working[iris_working[colonna].isna()])\n",
    "        if numero_null > soglia:\n",
    "            iris_working.drop(colonna, axis=1)     \n",
    "    \n",
    "    iris_working.loc[iris_working[\"class\"] == \"Iris setosa\", \"class\"] = 1\n",
    "    iris_working.loc[iris_working[\"class\"] == \"Iris versicolor\", \"class\"] = -1\n",
    "    \n",
    "    percentuale_training = 70/100\n",
    "    numero_righe_training = int(numero_righe*percentuale_training)\n",
    "    iris_training = iris_working.iloc[0:numero_righe_training].copy()\n",
    "    iris_test = iris_working.iloc[numero_righe_training:].copy()\n",
    "    \n",
    "    for colonna in lista_colonne:\n",
    "        media = iris_training[colonna].mean()\n",
    "        iris_training[colonna] = iris_training[colonna].fillna(value = media)\n",
    "        iris_test[colonna] = iris_test[colonna].fillna(value = media)\n",
    "        \n",
    "    for colonna in lista_colonne:\n",
    "        media = iris_training[colonna].mean()\n",
    "        deviazione_standard = iris_training[colonna].std()\n",
    "        iris_training[colonna] = (iris_training[colonna] - media) / deviazione_standard\n",
    "        iris_test[colonna] = (iris_test[colonna] - media) / deviazione_standard\n",
    "            \n",
    "    iris_training[\"weight\"] = 1\n",
    "    iris_test[\"weight\"] = 1\n",
    "    \n",
    "    x1 = iris_training[[\"sepal_length\",\"sepal_width\",\"petal_length\",\"petal_width\",\"weight\"]].values\n",
    "    y1 = iris_training[[\"class\"]].values\n",
    "\n",
    "    x2 = iris_test[[\"sepal_length\",\"sepal_width\",\"petal_length\",\"petal_width\",\"weight\"]].values\n",
    "    y2 = iris_test[[\"class\"]].values\n",
    "\n",
    "    return [iris, iris_training, iris_test, x1, y1, x2, y2]"
   ]
  },
  {
   "cell_type": "code",
   "execution_count": null,
   "metadata": {},
   "outputs": [],
   "source": [
    " iris, iris_training, iris_test, x1, y1, x2, y2 = preprocessing(path)"
   ]
  },
  {
   "cell_type": "code",
   "execution_count": null,
   "metadata": {},
   "outputs": [],
   "source": [
    "iris_training"
   ]
  },
  {
   "cell_type": "markdown",
   "metadata": {},
   "source": [
    "creo un vettore w della stessa lunghezza di una riga di x1 con tutti 0"
   ]
  },
  {
   "cell_type": "code",
   "execution_count": null,
   "metadata": {},
   "outputs": [],
   "source": [
    "x1"
   ]
  },
  {
   "cell_type": "code",
   "execution_count": null,
   "metadata": {},
   "outputs": [],
   "source": [
    "x1.shape"
   ]
  },
  {
   "cell_type": "code",
   "execution_count": null,
   "metadata": {},
   "outputs": [],
   "source": [
    "w = np.zeros(x1.shape[1])"
   ]
  },
  {
   "cell_type": "code",
   "execution_count": null,
   "metadata": {},
   "outputs": [],
   "source": [
    "w"
   ]
  },
  {
   "cell_type": "code",
   "execution_count": null,
   "metadata": {},
   "outputs": [],
   "source": [
    "x1[0]"
   ]
  },
  {
   "cell_type": "code",
   "execution_count": null,
   "metadata": {},
   "outputs": [],
   "source": [
    "w[0] * x1[0][0] + w[1]*x1[0][1] + w[2]*x1[0][2] +  w[3]*x1[0][3] + w[4]*x1[0][4]"
   ]
  },
  {
   "cell_type": "markdown",
   "metadata": {},
   "source": [
    "calcolo il prodotto scalare tra la prima riga di x1 e w"
   ]
  },
  {
   "cell_type": "code",
   "execution_count": null,
   "metadata": {},
   "outputs": [],
   "source": [
    "x1_dots_w = np.dot(x1[0],w)  \n",
    "x1_dots_w"
   ]
  },
  {
   "cell_type": "markdown",
   "metadata": {},
   "source": [
    "se il prodotto scalare calcolato è maggiore o uguale di 0 allora il valore di class predetto sarà 1, altrimenti -1"
   ]
  },
  {
   "cell_type": "code",
   "execution_count": null,
   "metadata": {},
   "outputs": [],
   "source": [
    "if x1_dots_w >= 0:\n",
    "    predizione = 1\n",
    "else:\n",
    "    predizione = -1\n",
    "    \n",
    "predizione"
   ]
  },
  {
   "cell_type": "markdown",
   "metadata": {},
   "source": [
    "raggruppiamo il codice precedente in una funzione"
   ]
  },
  {
   "cell_type": "code",
   "execution_count": null,
   "metadata": {},
   "outputs": [],
   "source": [
    "def predici(x,w):\n",
    "    x_dots_w = np.dot(x,w) \n",
    "    if x_dots_w >= 0:\n",
    "        predizione = 1\n",
    "    else:\n",
    "        predizione = -1\n",
    "    return predizione\n"
   ]
  },
  {
   "cell_type": "markdown",
   "metadata": {},
   "source": [
    "testiamo la funzione con la prima riga di x e w"
   ]
  },
  {
   "cell_type": "code",
   "execution_count": null,
   "metadata": {},
   "outputs": [],
   "source": [
    "predizione = predici(x1[0],w)"
   ]
  },
  {
   "cell_type": "code",
   "execution_count": null,
   "metadata": {},
   "outputs": [],
   "source": [
    "predizione"
   ]
  },
  {
   "cell_type": "code",
   "execution_count": null,
   "metadata": {},
   "outputs": [],
   "source": [
    "y1[0]"
   ]
  },
  {
   "cell_type": "markdown",
   "metadata": {},
   "source": [
    "a questo punto possiamo aggiornare il vettore w tramite la formula\n",
    "\n",
    "w = w + 0.1*(class[0] - predizione[0]) * x[0]"
   ]
  },
  {
   "cell_type": "code",
   "execution_count": null,
   "metadata": {},
   "outputs": [],
   "source": [
    "w = w + 0.1 *(y1[0]-predizione)*x1[0]\n",
    "w"
   ]
  },
  {
   "cell_type": "code",
   "execution_count": null,
   "metadata": {},
   "outputs": [],
   "source": [
    "predizione = predici(x1[1],w)"
   ]
  },
  {
   "cell_type": "code",
   "execution_count": null,
   "metadata": {},
   "outputs": [],
   "source": [
    "predizione"
   ]
  },
  {
   "cell_type": "code",
   "execution_count": null,
   "metadata": {},
   "outputs": [],
   "source": [
    "y1[1]"
   ]
  },
  {
   "cell_type": "code",
   "execution_count": null,
   "metadata": {},
   "outputs": [],
   "source": [
    "w = w + 0.1 *(y1[1]-predizione)*x1[1]\n",
    "w"
   ]
  },
  {
   "cell_type": "markdown",
   "metadata": {},
   "source": [
    "Iteriamo questo procedimento per tutte le righe di x1"
   ]
  },
  {
   "cell_type": "code",
   "execution_count": null,
   "metadata": {},
   "outputs": [],
   "source": [
    "w = np.zeros(x1.shape[1])\n",
    "eta = 0.1 \n",
    "for i in range(x1.shape[0]):\n",
    "    predizione = predici(x1[i],w)\n",
    "    w = w + eta * (y1[i]-predizione) * x1[i]\n",
    "    print(i)\n",
    "w"
   ]
  },
  {
   "cell_type": "markdown",
   "metadata": {},
   "source": [
    "# Implementazione del Perceptron - fine parte 1"
   ]
  },
  {
   "cell_type": "markdown",
   "metadata": {},
   "source": [
    " "
   ]
  },
  {
   "cell_type": "markdown",
   "metadata": {},
   "source": [
    "# Implementazione del Perceptron - inizio parte 2"
   ]
  },
  {
   "cell_type": "markdown",
   "metadata": {},
   "source": [
    "Nota didattica: prima di iniziare questa lezione, rilancia il codice della parte precedente se non lo hai già fatto"
   ]
  },
  {
   "cell_type": "markdown",
   "metadata": {},
   "source": [
    "Ripetiamo questo procedimento un certo numero di volte(epoche)."
   ]
  },
  {
   "cell_type": "code",
   "execution_count": null,
   "metadata": {},
   "outputs": [],
   "source": [
    "w = np.zeros(x1.shape[1])\n",
    "epoche = 10\n",
    "for i1 in range(epoche): \n",
    "    for i in range(x1.shape[0]):\n",
    "        predizione = predici(x1[i],w)\n",
    "        w = w + eta * (y1[i]-predizione) * x1[i]\n",
    "w"
   ]
  },
  {
   "cell_type": "markdown",
   "metadata": {},
   "source": [
    "Miglioriamo l'algoritmo in modo che;\n",
    "\n",
    "- termini quando in un'epoca tutte le predizioni sono corrette\n",
    "\n",
    "- riporti il numero di errori ad ogni epoca"
   ]
  },
  {
   "cell_type": "code",
   "execution_count": null,
   "metadata": {},
   "outputs": [],
   "source": [
    "w = np.zeros(x1.shape[1])\n",
    "eta = 0.1 \n",
    "epoche = 10\n",
    "iterazioni_eseguite = 0\n",
    "lista_errori = []\n",
    "for i1 in range(epoche): \n",
    "    iterazioni_eseguite = iterazioni_eseguite + 1\n",
    "    errori = 0\n",
    "    for i in range(x1.shape[0]):\n",
    "        predizione = predici(x1[i],w)\n",
    "        w = w + eta * (y1[i]-predizione) * x1[i]\n",
    "        if (y1[i]-predizione) != 0:\n",
    "            errori = errori + 1\n",
    "    lista_errori.append(errori)\n",
    "    if(errori == 0):\n",
    "        break"
   ]
  },
  {
   "cell_type": "code",
   "execution_count": null,
   "metadata": {},
   "outputs": [],
   "source": [
    "lista_errori"
   ]
  },
  {
   "cell_type": "code",
   "execution_count": null,
   "metadata": {},
   "outputs": [],
   "source": [
    "w"
   ]
  },
  {
   "cell_type": "markdown",
   "metadata": {},
   "source": [
    "Utilizziamo w per predirre la classe di x2 e contare il numero di errori"
   ]
  },
  {
   "cell_type": "code",
   "execution_count": null,
   "metadata": {},
   "outputs": [],
   "source": [
    "predizioni = []\n",
    "errori = 0\n",
    "for i in range(x2.shape[0]):\n",
    "    predizione = predici(x2[i],w)\n",
    "    predizioni.append(predizione)\n",
    "    if predizione != y2[i]:\n",
    "        errori = errori + 1\n",
    "\n",
    "accuratezza = (x2.shape[0] - errori) / x2.shape[0]\n",
    "accuratezza, errori"
   ]
  },
  {
   "cell_type": "markdown",
   "metadata": {},
   "source": [
    "Colleghiamo la colonna predizioni al dataframe iris_test"
   ]
  },
  {
   "cell_type": "code",
   "execution_count": null,
   "metadata": {},
   "outputs": [],
   "source": [
    "iris_test[\"predizione\"] = predizioni\n",
    "iris_test"
   ]
  },
  {
   "cell_type": "markdown",
   "metadata": {},
   "source": [
    "Decodifichiamo 1 e -1 in Iris setosa e Iris Versicolor"
   ]
  },
  {
   "cell_type": "code",
   "execution_count": null,
   "metadata": {},
   "outputs": [],
   "source": [
    "iris_test.loc[iris_test[\"predizione\"] == 1, \"predizione\"] =  \"Iris setosa\" \n",
    "iris_test.loc[iris_test[\"predizione\"] == -1, \"predizione\"] = \"Iris versicolor\""
   ]
  },
  {
   "cell_type": "code",
   "execution_count": null,
   "metadata": {},
   "outputs": [],
   "source": [
    "iris_test"
   ]
  },
  {
   "cell_type": "markdown",
   "metadata": {},
   "source": [
    "Recuperiamo i dati originali dal dataframe iris"
   ]
  },
  {
   "cell_type": "code",
   "execution_count": null,
   "metadata": {},
   "outputs": [],
   "source": [
    "iris_previsioni = pd.concat(objs = [iris, iris_test[[\"predizione\"]]], \n",
    "                            join = \"inner\",  \n",
    "                            axis = 1)\n",
    "iris_previsioni"
   ]
  },
  {
   "cell_type": "markdown",
   "metadata": {},
   "source": [
    "Filtriamo gli errori"
   ]
  },
  {
   "cell_type": "code",
   "execution_count": null,
   "metadata": {},
   "outputs": [],
   "source": [
    "iris_previsioni[iris_previsioni[\"class\"] != iris_previsioni[\"predizione\"]]"
   ]
  }
 ],
 "metadata": {
  "kernelspec": {
   "display_name": "Python 3 (ipykernel)",
   "language": "python",
   "name": "python3"
  },
  "language_info": {
   "codemirror_mode": {
    "name": "ipython",
    "version": 3
   },
   "file_extension": ".py",
   "mimetype": "text/x-python",
   "name": "python",
   "nbconvert_exporter": "python",
   "pygments_lexer": "ipython3",
   "version": "3.10.4"
  }
 },
 "nbformat": 4,
 "nbformat_minor": 4
}

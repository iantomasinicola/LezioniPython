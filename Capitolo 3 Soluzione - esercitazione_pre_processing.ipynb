{
 "cells": [
  {
   "cell_type": "code",
   "execution_count": null,
   "metadata": {},
   "outputs": [],
   "source": [
    "import pandas as pd\n",
    "import numpy as np\n",
    "path = \"C:\\\\Users\\\\ianto\\\\Desktop\\\\Corso Python per l analisi dei dati\\\\File\\\\\""
   ]
  },
  {
   "cell_type": "markdown",
   "metadata": {},
   "source": [
    "## Import dei dati"
   ]
  },
  {
   "cell_type": "markdown",
   "metadata": {},
   "source": [
    "Importare il file IrisDataset.csv in un dataframe di nome iris facendo attenzione al separatore, all'intestazione e alle righe iniziali da skippare (suggerimento: usare il parametro skiprows).\n",
    "\n",
    "Chiamare le colonne \n",
    "- rownumber\n",
    "\n",
    "- sepal_length\n",
    "\n",
    "- sepal_width\n",
    "\n",
    "- petal_length\n",
    "\n",
    "- petal_width\n",
    "\n",
    "- class\n",
    "\n",
    "acknowledgements\n",
    "Dua, D. and Graff, C. (2019). UCI Machine Learning Repository [http://archive.ics.uci.edu/ml]. Irvine, CA: University of California, School of Information and Computer Science."
   ]
  },
  {
   "cell_type": "code",
   "execution_count": null,
   "metadata": {},
   "outputs": [],
   "source": [
    "iris = pd.read_csv(filepath_or_buffer=path + 'IrisDataset.csv',\n",
    "            sep = \";\", \n",
    "            header = None,\n",
    "            names = [\"rownumber\",\"sepal_length\",\"sepal_width\",\"petal_length\",\"petal_width\",\"class\"],\n",
    "            skiprows = 4\n",
    "            )"
   ]
  },
  {
   "cell_type": "markdown",
   "metadata": {},
   "source": [
    "Creiamo una copia del dataframe di nome iris_working su cui continueremo a lavorare"
   ]
  },
  {
   "cell_type": "code",
   "execution_count": null,
   "metadata": {},
   "outputs": [],
   "source": [
    "iris_working = iris.copy()"
   ]
  },
  {
   "cell_type": "markdown",
   "metadata": {},
   "source": [
    "## Filtrare i dati"
   ]
  },
  {
   "cell_type": "markdown",
   "metadata": {},
   "source": [
    "Considerare soltanto le righe dove la colonna class contiene Iris setosa o Iris versicolor "
   ]
  },
  {
   "cell_type": "code",
   "execution_count": null,
   "metadata": {},
   "outputs": [],
   "source": [
    "iris_working = iris_working[iris_working[\"class\"].isin([\"Iris setosa\",\"Iris versicolor\"])]"
   ]
  },
  {
   "cell_type": "markdown",
   "metadata": {},
   "source": [
    "## Riordinare i dati"
   ]
  },
  {
   "cell_type": "markdown",
   "metadata": {},
   "source": [
    "Modifichiamo l'ordine dei dati in modo casuale. Rendere l'esperimento ripetibile usando il parametro random_state = 0"
   ]
  },
  {
   "cell_type": "code",
   "execution_count": null,
   "metadata": {
    "scrolled": true
   },
   "outputs": [],
   "source": [
    "iris_working = iris_working.sample(frac=1,random_state = 0)\n",
    "iris_working"
   ]
  },
  {
   "cell_type": "markdown",
   "metadata": {},
   "source": [
    "## Eliminare colonne con troppi null"
   ]
  },
  {
   "cell_type": "markdown",
   "metadata": {},
   "source": [
    "Eliminare le colonne con più del 50% di dati mancanti"
   ]
  },
  {
   "cell_type": "code",
   "execution_count": null,
   "metadata": {},
   "outputs": [],
   "source": [
    "numero_righe = len(iris_working)\n",
    "numero_righe"
   ]
  },
  {
   "cell_type": "code",
   "execution_count": null,
   "metadata": {},
   "outputs": [],
   "source": [
    "percentuale = 50/100\n",
    "percentuale"
   ]
  },
  {
   "cell_type": "code",
   "execution_count": null,
   "metadata": {},
   "outputs": [],
   "source": [
    "soglia = numero_righe*percentuale\n",
    "soglia"
   ]
  },
  {
   "cell_type": "code",
   "execution_count": null,
   "metadata": {},
   "outputs": [],
   "source": [
    "lista_colonne = list(iris_working.columns)\n",
    "lista_colonne.remove(\"class\")\n",
    "lista_colonne"
   ]
  },
  {
   "cell_type": "code",
   "execution_count": null,
   "metadata": {},
   "outputs": [],
   "source": [
    "#oppure\n",
    "lista_colonne = [x for x in lista_colonne if x != \"class\"]\n",
    "lista_colonne"
   ]
  },
  {
   "cell_type": "code",
   "execution_count": null,
   "metadata": {},
   "outputs": [],
   "source": [
    "for colonna in lista_colonne:\n",
    "    numero_null = len(iris_working[iris_working[colonna].isna()])\n",
    "    print(\"La colonna \" + colonna + \" ha \" + str(numero_null) + \" null\")\n",
    "    if numero_null > soglia:\n",
    "        iris_working = iris_working.drop(colonna, axis=1)     \n",
    "        print(\"Ho eliminato la colonna \" + colonna)"
   ]
  },
  {
   "cell_type": "markdown",
   "metadata": {},
   "source": [
    "## Codificare la variabile class"
   ]
  },
  {
   "cell_type": "markdown",
   "metadata": {},
   "source": [
    "Sostituire Iris Setosa con 1 e Iris Versicolor con -1 "
   ]
  },
  {
   "cell_type": "code",
   "execution_count": null,
   "metadata": {},
   "outputs": [],
   "source": [
    "iris_working.loc[iris_working[\"class\"] == \"Iris setosa\", \"class\"] = 1\n",
    "iris_working.loc[iris_working[\"class\"] == \"Iris versicolor\", \"class\"] = -1"
   ]
  },
  {
   "cell_type": "markdown",
   "metadata": {},
   "source": [
    "## Eliminare le colonne superflue"
   ]
  },
  {
   "cell_type": "markdown",
   "metadata": {},
   "source": [
    "Eliminare la colonna Rownumber in iris_working"
   ]
  },
  {
   "cell_type": "code",
   "execution_count": null,
   "metadata": {},
   "outputs": [],
   "source": [
    "iris_working = iris_working.drop([\"rownumber\"],axis=1)"
   ]
  },
  {
   "cell_type": "markdown",
   "metadata": {},
   "source": [
    "## Divisione dei dati in training e test"
   ]
  },
  {
   "cell_type": "markdown",
   "metadata": {},
   "source": [
    "Creare due dataframe iris_training e iris_test con il 70% e il 30% dei dati di IrisWorking"
   ]
  },
  {
   "cell_type": "code",
   "execution_count": null,
   "metadata": {},
   "outputs": [],
   "source": [
    "numero_righe = len(iris_working)\n",
    "percentuale_training = 70/100\n",
    "numero_righe_training = int(numero_righe*percentuale_training)\n",
    "numero_righe_training"
   ]
  },
  {
   "cell_type": "code",
   "execution_count": null,
   "metadata": {},
   "outputs": [],
   "source": [
    "iris_training = iris_working.iloc[0:numero_righe_training].copy()"
   ]
  },
  {
   "cell_type": "code",
   "execution_count": null,
   "metadata": {},
   "outputs": [],
   "source": [
    "iris_test = iris_working.iloc[numero_righe_training:].copy()"
   ]
  },
  {
   "cell_type": "code",
   "execution_count": null,
   "metadata": {},
   "outputs": [],
   "source": [
    "len(iris_training),len(iris_test)"
   ]
  },
  {
   "cell_type": "markdown",
   "metadata": {},
   "source": [
    "##  Valorizzazione dei null"
   ]
  },
  {
   "cell_type": "markdown",
   "metadata": {},
   "source": [
    "Calcolare la media di tutte le colonne del dataset di training (ad eccezione di class). \n",
    "\n",
    "Utilizzarla per sostituire i null all'interno di entrambi i dataset"
   ]
  },
  {
   "cell_type": "code",
   "execution_count": null,
   "metadata": {},
   "outputs": [],
   "source": [
    "lista_colonne = list(iris_working.columns)\n",
    "lista_colonne.remove(\"class\")\n",
    "lista_colonne"
   ]
  },
  {
   "cell_type": "code",
   "execution_count": null,
   "metadata": {},
   "outputs": [],
   "source": [
    "for colonna in lista_colonne:\n",
    "    media = iris_training[colonna].mean()\n",
    "    iris_training[colonna] = iris_training[colonna].fillna(value = media)\n",
    "    iris_test[colonna] = iris_test[colonna].fillna(value = media)"
   ]
  },
  {
   "cell_type": "markdown",
   "metadata": {},
   "source": [
    "##  Normalizzazione dei dati"
   ]
  },
  {
   "cell_type": "markdown",
   "metadata": {},
   "source": [
    "Calcolare la media e la deviazione standard di tutte le colonne del dataset di training (ad eccezione di class).\n",
    "\n",
    "Utilizzarla per sostituire i dati di entrambi i dataset con la formula\n",
    "\n",
    "(valore - media) / deviazioneStandard "
   ]
  },
  {
   "cell_type": "code",
   "execution_count": null,
   "metadata": {},
   "outputs": [],
   "source": [
    "lista_colonne = list(iris_working.columns)\n",
    "lista_colonne.remove(\"class\")\n",
    "lista_colonne"
   ]
  },
  {
   "cell_type": "code",
   "execution_count": null,
   "metadata": {},
   "outputs": [],
   "source": [
    "for colonna in lista_colonne:\n",
    "    media = iris_training[colonna].mean()\n",
    "    deviazione_standard = iris_training[colonna].std()\n",
    "    iris_training[colonna] = (iris_training[colonna] - media) / deviazione_standard\n",
    "    iris_test[colonna] = (iris_test[colonna] - media) / deviazione_standard"
   ]
  },
  {
   "cell_type": "markdown",
   "metadata": {},
   "source": [
    "## Aggiungere la colonna con i pesi"
   ]
  },
  {
   "cell_type": "markdown",
   "metadata": {},
   "source": [
    "Aggiungere ai dataset di training e test una colonna di nome weight valorizzata sempre con 1"
   ]
  },
  {
   "cell_type": "code",
   "execution_count": null,
   "metadata": {},
   "outputs": [],
   "source": [
    "iris_training[\"weight\"] = 1\n",
    "iris_test[\"weight\"] = 1"
   ]
  },
  {
   "cell_type": "markdown",
   "metadata": {},
   "source": [
    "## Convertire i dataframe in array di numpy"
   ]
  },
  {
   "cell_type": "markdown",
   "metadata": {},
   "source": [
    "Creare quattro array di numpy:\n",
    "\n",
    "- le colonne \"sepal_length\",\"sepal_width\",\"petal_length\",\"petal_width\" dei dati di training\n",
    "\n",
    "- la colonna \"class\" dei dati di training\n",
    "\n",
    "- le colonne \"sepal_length\",\"sepal_width\",\"petal_length\",\"petal_width\" dei dati di test\n",
    "\n",
    "- la colonna \"class\" dei dati di test"
   ]
  },
  {
   "cell_type": "code",
   "execution_count": null,
   "metadata": {},
   "outputs": [],
   "source": [
    "x1 = iris_training[[\"sepal_length\",\"sepal_width\",\"petal_length\",\"petal_width\",\"weight\"]].values\n",
    "y1 = iris_training[[\"class\"]].values\n",
    "\n",
    "x2 = iris_test[[\"sepal_length\",\"sepal_width\",\"petal_length\",\"petal_width\",\"weight\"]].values\n",
    "y2 = iris_test[[\"class\"]].values\n"
   ]
  },
  {
   "cell_type": "code",
   "execution_count": null,
   "metadata": {},
   "outputs": [],
   "source": [
    "x1,y1,x2,y2"
   ]
  }
 ],
 "metadata": {
  "kernelspec": {
   "display_name": "Python 3 (ipykernel)",
   "language": "python",
   "name": "python3"
  },
  "language_info": {
   "codemirror_mode": {
    "name": "ipython",
    "version": 3
   },
   "file_extension": ".py",
   "mimetype": "text/x-python",
   "name": "python",
   "nbconvert_exporter": "python",
   "pygments_lexer": "ipython3",
   "version": "3.10.4"
  }
 },
 "nbformat": 4,
 "nbformat_minor": 4
}
